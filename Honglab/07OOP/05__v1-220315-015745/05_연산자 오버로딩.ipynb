{
 "cells": [
  {
   "cell_type": "markdown",
   "metadata": {},
   "source": [
    "___\n",
    "<a href='https://cafe.naver.com/jmhonglab'><p style=\"text-align:center;\"><img src='https://lh3.googleusercontent.com/lY3ySXooSmwsq5r-mRi7uiypbo0Vez6pmNoQxMFhl9fmZJkRHu5lO2vo7se_0YOzgmDyJif9fi4_z0o3ZFdwd8NVSWG6Ea80uWaf3pOHpR4GHGDV7kaFeuHR3yAjIJjDgfXMxsvw=w2400'  class=\"center\" width=\"50%\" height=\"50%\"/></p></a>\n",
    "___\n",
    "<center><em>Content Copyright by HongLab, Inc.</em></center>"
   ]
  },
  {
   "cell_type": "markdown",
   "metadata": {},
   "source": [
    "### 연산자 오버로딩 (Operator Overloading)\n",
    "\n",
    "```__init()__``` 메써드처럼 클래스를 만들 때 정해진 기능을 하도록 미리 이름이 지정되어 있는 메써드들이 있습니다.\n",
    "\n",
    "기본 자료형들처럼 연산자를 사용하기 위해서는 [특별한 이름을 가진 메써드들](https://www.geeksforgeeks.org/operator-overloading-in-python/)을 만들어주면 됩니다. "
   ]
  },
  {
   "cell_type": "code",
   "execution_count": 1,
   "metadata": {},
   "outputs": [
    {
     "name": "stdout",
     "output_type": "stream",
     "text": [
      "4\n"
     ]
    }
   ],
   "source": [
    "x = int(1)\n",
    "y = int(3)\n",
    "\n",
    "a = x + y\n",
    "#a = x.__add__(y)\n",
    "\n",
    "print(a)"
   ]
  },
  {
   "cell_type": "code",
   "execution_count": 3,
   "metadata": {},
   "outputs": [
    {
     "ename": "TypeError",
     "evalue": "unsupported operand type(s) for +: 'Vector2D' and 'Vector2D'",
     "output_type": "error",
     "traceback": [
      "\u001b[1;31m---------------------------------------------------------------------------\u001b[0m",
      "\u001b[1;31mTypeError\u001b[0m                                 Traceback (most recent call last)",
      "\u001b[1;32mc:\\Users\\jmhong\\HongLabPythonPrivate\\Ch07_객체지향프로그래밍\\05_연산자오버로딩.ipynb Cell 5'\u001b[0m in \u001b[0;36m<module>\u001b[1;34m\u001b[0m\n\u001b[0;32m      <a href='vscode-notebook-cell:/c%3A/Users/jmhong/HongLabPythonPrivate/Ch07_%EA%B0%9D%EC%B2%B4%EC%A7%80%ED%96%A5%ED%94%84%EB%A1%9C%EA%B7%B8%EB%9E%98%EB%B0%8D/05_%EC%97%B0%EC%82%B0%EC%9E%90%EC%98%A4%EB%B2%84%EB%A1%9C%EB%94%A9.ipynb#ch0000004?line=6'>7</a>\u001b[0m v1 \u001b[39m=\u001b[39m Vector2D(\u001b[39m1\u001b[39m, \u001b[39m2\u001b[39m)\n\u001b[0;32m      <a href='vscode-notebook-cell:/c%3A/Users/jmhong/HongLabPythonPrivate/Ch07_%EA%B0%9D%EC%B2%B4%EC%A7%80%ED%96%A5%ED%94%84%EB%A1%9C%EA%B7%B8%EB%9E%98%EB%B0%8D/05_%EC%97%B0%EC%82%B0%EC%9E%90%EC%98%A4%EB%B2%84%EB%A1%9C%EB%94%A9.ipynb#ch0000004?line=7'>8</a>\u001b[0m v2 \u001b[39m=\u001b[39m Vector2D(\u001b[39m3\u001b[39m, \u001b[39m4\u001b[39m)\n\u001b[1;32m---> <a href='vscode-notebook-cell:/c%3A/Users/jmhong/HongLabPythonPrivate/Ch07_%EA%B0%9D%EC%B2%B4%EC%A7%80%ED%96%A5%ED%94%84%EB%A1%9C%EA%B7%B8%EB%9E%98%EB%B0%8D/05_%EC%97%B0%EC%82%B0%EC%9E%90%EC%98%A4%EB%B2%84%EB%A1%9C%EB%94%A9.ipynb#ch0000004?line=9'>10</a>\u001b[0m v3 \u001b[39m=\u001b[39m v1 \u001b[39m+\u001b[39;49m v2\n",
      "\u001b[1;31mTypeError\u001b[0m: unsupported operand type(s) for +: 'Vector2D' and 'Vector2D'"
     ]
    }
   ],
   "source": [
    "class Vector2D:\n",
    "\n",
    "    def __init__(self, x, y):\n",
    "        self.x = x\n",
    "        self.y = y\n",
    "\n",
    "v1 = Vector2D(1, 2)\n",
    "v2 = Vector2D(3, 4)\n",
    "\n",
    "v3 = v1 + v2 # ???"
   ]
  },
  {
   "cell_type": "code",
   "execution_count": 4,
   "metadata": {},
   "outputs": [
    {
     "name": "stdout",
     "output_type": "stream",
     "text": [
      "4 6\n",
      "<__main__.Vector2D object at 0x00000265DCFA0DF0>\n"
     ]
    }
   ],
   "source": [
    "class Vector2D:\n",
    "\n",
    "    def __init__(self, x, y):\n",
    "        self.x = x\n",
    "        self.y = y\n",
    "\n",
    "    def __add__(self, v):\n",
    "        return Vector2D(self.x + v.x, self.y + v.y)\n",
    "\n",
    "v1 = Vector2D(1, 2)\n",
    "v2 = Vector2D(3, 4)\n",
    "\n",
    "v3 = v1 + v2 # v1.__add__(v2)\n",
    "\n",
    "print(v3.x, v3.y)\n",
    "\n",
    "print(v3) # ???"
   ]
  },
  {
   "cell_type": "markdown",
   "metadata": {},
   "source": [
    "[실습] ```__str__()```\n",
    "\n",
    "```__str__()``` 메써드에서 출력하고 싶은 문자열을 반환해주면 됩니다."
   ]
  },
  {
   "cell_type": "code",
   "execution_count": 5,
   "metadata": {},
   "outputs": [
    {
     "name": "stdout",
     "output_type": "stream",
     "text": [
      "(4, 6)\n"
     ]
    }
   ],
   "source": [
    "class Vector2D:\n",
    "\n",
    "    def __init__(self, x, y):\n",
    "        self.x = x\n",
    "        self.y = y\n",
    "\n",
    "    def __add__(self, v):\n",
    "        return Vector2D(self.x + v.x, self.y + v.y)\n",
    "\n",
    "\n",
    "v1 = Vector2D(1, 2)\n",
    "v2 = Vector2D(3, 4)\n",
    "v3 = v1 + v2\n",
    "\n",
    "print(v3)"
   ]
  },
  {
   "cell_type": "markdown",
   "metadata": {},
   "source": [
    "[실습] 등호(==) 연산자 오버로딩\n",
    "\n",
    "불리언을 반환하는 ```__eq__()``` 메써드를 만들어주면 됩니다."
   ]
  },
  {
   "cell_type": "code",
   "execution_count": 6,
   "metadata": {},
   "outputs": [
    {
     "name": "stdout",
     "output_type": "stream",
     "text": [
      "False\n",
      "True\n",
      "False\n"
     ]
    }
   ],
   "source": [
    "class Vector2D:\n",
    "\n",
    "    def __init__(self, x, y):\n",
    "        self.x = x\n",
    "        self.y = y\n",
    "\n",
    "\n",
    "v1 = Vector2D(1, 2)\n",
    "v2 = Vector2D(3, 4)\n",
    "\n",
    "print(v1 == v2)\n",
    "print(v1 == Vector2D(1, 2))\n",
    "print(Vector2D(3, 4) == v3)"
   ]
  }
 ],
 "metadata": {
  "interpreter": {
   "hash": "8018e705143a54fe8977c076a25f32bbbfeba551799f40fa3d5ac4e2da245feb"
  },
  "kernelspec": {
   "display_name": "Python 3.10.2 ('py310')",
   "language": "python",
   "name": "python3"
  },
  "language_info": {
   "codemirror_mode": {
    "name": "ipython",
    "version": 3
   },
   "file_extension": ".py",
   "mimetype": "text/x-python",
   "name": "python",
   "nbconvert_exporter": "python",
   "pygments_lexer": "ipython3",
   "version": "3.10.2"
  },
  "orig_nbformat": 4
 },
 "nbformat": 4,
 "nbformat_minor": 2
}
