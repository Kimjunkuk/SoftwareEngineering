{
 "cells": [
  {
   "cell_type": "markdown",
   "metadata": {},
   "source": [
    "___\n",
    "<a href='https://cafe.naver.com/jmhonglab'><p style=\"text-align:center;\"><img src='https://lh3.googleusercontent.com/lY3ySXooSmwsq5r-mRi7uiypbo0Vez6pmNoQxMFhl9fmZJkRHu5lO2vo7se_0YOzgmDyJif9fi4_z0o3ZFdwd8NVSWG6Ea80uWaf3pOHpR4GHGDV7kaFeuHR3yAjIJjDgfXMxsvw=w2400'  class=\"center\" width=\"50%\" height=\"50%\"/></p></a>\n",
    "___\n",
    "<center><em>Content Copyright by HongLab, Inc.</em></center>"
   ]
  },
  {
   "cell_type": "markdown",
   "metadata": {},
   "source": [
    "# 객체지향 프로그래밍 (Object-Oriented Programming)\n",
    "\n",
    "파이썬은 객체지향 프로그래밍(OOP) 언어입니다. OOP는 객체를 이용해서 프로그램을 구조화하는 방법론입니다. 앞에서는 함수를 이용해서 구조를 설계하고 코드를 재사용하는 방법에 대해서 공부했습니다. 객체는 함수와 함께 그 함수가 일을 할 때 필요한 데이터까지 묶어놓은 것이라서 더 크고 복잡한 프로그램을 더 쉽게 만들 수 있도록 도와줍니다. 객체지향을 사용하기 시작하면 일시적으로 훨씬 복잡하게 느껴지실 수도 있지만 프로그래머처럼 생각하는 방법을 배우는 과정이기 때문에 익숙해진 후에는 오히려 더 편해집니다.\n",
    "\n",
    "우리는 이미 다양한 종류의 객체(object)들을 사용해왔습니다. 예를 들어서 지금까지 많이 사용해온 문자열(str) 객체를 생각해봅시다.\n",
    "\n",
    "- a와 b는 (보다 정확히는 a와 b라는 이름과 연결되어 있는 객체들은) 각각 \"hello\"와 \"abc\"라는 데이터를 가지고 있습니다.\n",
    "- \"hello\"와 \"abc\"는 서로 값이 다르지만 같은 종류(type)이기 때문에 같은 방법으로 사용할 수 있습니다.\n",
    "- a와 b는 메써드(method)를 이용해서 기능도 수행할 수 있습니다. 예를 들어서 a와 b에 ```upper()``` 메써드를 사용해서 각자 가지고 있는 데이터 값을 바꿀 수 있습니다."
   ]
  },
  {
   "cell_type": "code",
   "execution_count": null,
   "metadata": {},
   "outputs": [],
   "source": [
    "a = str(\"hello\")\n",
    "b = str(\"abc\")\n",
    "\n",
    "print(type(a), type(b))  # <class 'str'> <class 'str'>\n",
    "\n",
    "a.upper()  # 'HELLO'\n",
    "b.upper()  # 'ABC'"
   ]
  },
  {
   "cell_type": "markdown",
   "metadata": {},
   "source": [
    "여기서 OOP의 장점들을 엿볼 수 있습니다.\n",
    "\n",
    "- 세세한 내용들을 신경쓰지 않아도 됩니다. 위의 예에서는 마치 a라는 존재(object)에게 \"네가 갖고 있는 글자들을 모두 대문자로 알아서 바꿔라\"라고 명령을 내리는 기분입니다.\n",
    "- 잘 설계된 자료형들은 재사용이 쉽습니다. 지금까지 사용해온 수 많은 패키지들의 자료형들을 내가 하나하나 만들어 써야 한다고 생각해보면 와닿을 것 같습니다.\n",
    "- 추상적인 관점에서 프로그램의 구조를 설계할 수 있습니다. 프로그램의 규모가 커지고 복잡해질 수록 큰 장점이 됩니다.\n"
   ]
  },
  {
   "cell_type": "markdown",
   "metadata": {},
   "source": [
    "중요한 용어들을 정리해보겠습니다.\n",
    "- 객체(object): 영어에서 일반적인 물건/물체를 의미하듯이 파이썬에서는 모든 것이 객체입니다. 보다 구체적으로는 데이터와 기능을 묶어놓은 것들을 의미합니다.\n",
    "- 클래스(class): 어떤 객체가 어떤 데이터를 갖고 그 데이터로 어떤 기능들을 수행할지 정의해놓은 템플릿(template)을 의미합니다. 바꿔말하면 어떤 자료형(data type)을 정의하는 것입니다. 클래스와 객체의 관계를 흔히 쿠키 커터와 쿠키 또는 붕어빵틀과 붕어빵의 관계에 비유합니다. 예전에는 '[부류](https://terms.naver.com/entry.naver?docId=817824&cid=42344&categoryId=42344)'로 번역하기도 했습니다.\n",
    "- 인스턴스(instance): 파이썬에서는 모든 것이 객체이기 때문에 객체의 의미가 매우 넓습니다. 어떤 객체가 어떤 클래스에 맞춰서 만들어졌다는 점을 강조하고 싶을 때 그 객체를 어떤 클래스의 **인스턴스**라고 부릅니다. 예를 들어서 ```a```와 ```b```는 클래스 'str'의 인스턴스입니다. 객체와 인스턴스는 혼용되는 경우도 많습니다."
   ]
  },
  {
   "cell_type": "code",
   "execution_count": null,
   "metadata": {},
   "outputs": [],
   "source": [
    "a = \"hello\"\n",
    "b = \"abc\"\n",
    "\n",
    "# isinstance를 이용해서 어떤 객체가 어떤 type의 instance인지를 확인합니다.\n",
    "isinstance(a, str), isinstance(b, str)  # (True, True)"
   ]
  },
  {
   "cell_type": "markdown",
   "metadata": {},
   "source": [
    "- 속성(attribute): 파이썬에서는 변수 다음에 .을 찍어서 사용할 수 있는 것들은 모두 attribute라고 부릅니다.\n",
    "- 데이터 속성(data attributes): 객체의 변수들을 의미합니다.\n",
    "- 메써드(method): 객체의 함수들을 의미합니다.\n",
    "\n",
    "참고: C++에서는 특정 클래스에 소속되었다는 의미에서 멤버 변수(member variable)와 멤버 함수(member function)이라고 부릅니다. 자바에서는 속성(attribute)과 메써드(method)라고 부릅니다.\n",
    "\n",
    "파이썬은 기본 자료형들도 사용법이 유연하고 패키지를 통해서 가져다쓸 수 있는 자료형들도 다양하기 때문에 간단한 예제에서는 굳이 새로운 자료형을 직접 만들어서 써야할 필요성이 느껴지지 않을 수도 있습니다. 그러나 기본 예제에서 약간만이라도 벗어나서 창의성을 발휘하기 시작하면 첫째로는 내가 원하는 것을 보다 효율적으로 만들기 위해서 둘째로는 좋은 코드들을 이해하고 [훔치기](https://en.wikiquote.org/wiki/Pablo_Picasso) 위해서 ```class```로 대표되는 객체지향 문법을 잘 알아야 합니다."
   ]
  },
  {
   "cell_type": "markdown",
   "metadata": {},
   "source": [
    "##### 참고\n",
    "[Introduction to Programming in Python: An Interdisciplinary Approach](https://www.amazon.com/Introduction-Programming-Python-Interdisciplinary-Approach-ebook/dp/B00YF0ORKU)\n",
    "- A data type is a set of values and a set of operations defined on those values. \n",
    "- In Python we implement a data type using a class."
   ]
  },
  {
   "cell_type": "markdown",
   "metadata": {},
   "source": [
    "### [클래스(Class)](https://docs.python.org/3/tutorial/classes.html)로 자료형 만들기\n",
    "\n",
    "```class``` 문법을 이용하여 필요한 자료형들을 만들어서 사용할 수 있습니다."
   ]
  },
  {
   "cell_type": "code",
   "execution_count": null,
   "metadata": {},
   "outputs": [],
   "source": [
    "# class 키워드로 정의\n",
    "# 클래스 이름에는 낙타(Camel) 케이스 사용\n",
    "class MyInt:\n",
    "\n",
    "    # 인스턴스가 만들어질 때 자동으로 실행되는 특별한 메써드\n",
    "    # init 앞뒤의 언더스코어 2개 주의\n",
    "    # magic or Dunder(Double UNDERscores) methods\n",
    "    # C++이나 Java에서는 생성자(constructor)라고 부릅니다.\n",
    "    # self는 인스턴스에 대한 레퍼런스 (변수)\n",
    "    def __init__(self, value):\n",
    "        # 인스턴스 변수 정의\n",
    "        self.value = value\n",
    "\n",
    "    # 메써드 정의 (첫 매개변수는 self)\n",
    "    def add(self, a):\n",
    "        self.value = self.value + a\n",
    "\n",
    "    # 메써드 정의 (첫 매개변수는 self)\n",
    "    def print(self):\n",
    "        print(self.value)\n",
    "\n",
    "\n",
    "# 인스턴스는 여러 개 만들 수 있습니다.\n",
    "my_int1 = MyInt(123)  # __init__(123)\n",
    "my_int2 = MyInt(456)  # __init__(456)\n",
    "\n",
    "print(my_int1.value)  # 124\n",
    "my_int1.add(1)  # 메써드를 호출할 때 self는 넣어줄 필요가 없습니다.\n",
    "my_int1.print()\n",
    "\n",
    "print(my_int2.value)  # 456\n",
    "my_int2.add(1)\n",
    "my_int2.print()  # 457"
   ]
  },
  {
   "cell_type": "markdown",
   "metadata": {},
   "source": [
    "[Python Visualization](https://pythontutor.com/visualize.html#mode=edit)을 사용해서 self의 용도를 확인해보세요."
   ]
  },
  {
   "cell_type": "code",
   "execution_count": null,
   "metadata": {},
   "outputs": [],
   "source": [
    "class MyInt:\n",
    "\n",
    "    def __init__(self, value):\n",
    "        self.v = value\n",
    "\n",
    "    def add(self, a):\n",
    "        self.v = self.v + a\n",
    "\n",
    "i1 = MyInt(123)\n",
    "i2 = MyInt(1004)\n",
    "\n",
    "i1.add(1)\n",
    "print(i1.v)  # 124\n",
    "\n",
    "i2.add(1)\n",
    "print(i2.v)  # 1005"
   ]
  },
  {
   "cell_type": "markdown",
   "metadata": {},
   "source": [
    "[보충] self와 instance의 id를 비교해보세요."
   ]
  },
  {
   "cell_type": "code",
   "execution_count": 20,
   "metadata": {},
   "outputs": [
    {
     "name": "stdout",
     "output_type": "stream",
     "text": [
      "1506625326576\n",
      "1506625326576\n",
      "1506625326576\n",
      "124\n",
      "1506625326576\n",
      "124\n"
     ]
    }
   ],
   "source": [
    "class MyInt:\n",
    "    def __init__(self, value):\n",
    "        self.value = value\n",
    "        print(id(self))\n",
    "\n",
    "    def add(self, a):\n",
    "        self.value = self.value + a\n",
    "        print(id(self))\n",
    "\n",
    "    def print(self):\n",
    "        print(self.value)\n",
    "        print(id(self))\n",
    "\n",
    "\n",
    "my_int1 = MyInt(123)\n",
    "\n",
    "print(id(my_int1))\n",
    "\n",
    "my_int1.add(1)\n",
    "my_int1.print()  # 124\n",
    "print(my_int1.value)  # 125"
   ]
  },
  {
   "cell_type": "markdown",
   "metadata": {},
   "source": [
    "### [실습] 원 클래스 만들기\n",
    "\n",
    "클래스 이름은 Circle  \n",
    "인스턴스 변수는 x, y, r 세 가지 (x와 y는 원의 중심의 좌표, r은 반지름)  \n",
    "```__init__()``` 메써드와 ```is_inside()``` 메써드 구현\n",
    "\n",
    "[힌트] 어떤 좌표 $(i, j)$에 대해서 $(i - x)^2 + (j-y)^2 < r^2$를 만족한다면 $(i, j)$가 원 안에 포함된 것으로 판단\n"
   ]
  },
  {
   "cell_type": "code",
   "execution_count": null,
   "metadata": {},
   "outputs": [],
   "source": [
    "class Circle:\n",
    "    pass\n",
    "\n",
    "\n",
    "# 중심이 (1.0, 1.5)이고 반지름이 0.8인 원\n",
    "my_circle = Circle(1.0, 1.5, 0.8)\n",
    "\n",
    "print(my_circle.is_inside(1.5, 0.9))  # True\n",
    "print(my_circle.is_inside(0.4, 0.5))  # False"
   ]
  },
  {
   "cell_type": "code",
   "execution_count": 1,
   "metadata": {},
   "outputs": [
    {
     "data": {
      "image/png": "[encoded data removed]",
      "text/plain": [
       "<PIL.Image.Image image mode=RGB size=320x240 at 0x2BF369B6E30>"
      ]
     },
     "execution_count": 1,
     "metadata": {},
     "output_type": "execute_result"
    }
   ],
   "source": [
    "# 원 그리기 (앞에서 사용했던 코드 그대로)\n",
    "from PIL import Image\n",
    "import numpy as np\n",
    "\n",
    "arr = np.empty((240, 320, 3), dtype=np.uint8)\n",
    "\n",
    "for j in range(arr.shape[0]):\n",
    "    for i in range(arr.shape[1]):\n",
    "        arr[j, i] = (\n",
    "            (255, 0, 0) if (i - 160) ** 2 + (j - 120) ** 2 < 100**2 else (0, 0, 255)\n",
    "        )\n",
    "\n",
    "im = Image.fromarray(arr.clip(0, 255).astype(np.uint8))  # data type 바꿔주기\n",
    "\n",
    "im"
   ]
  },
  {
   "cell_type": "code",
   "execution_count": 13,
   "metadata": {},
   "outputs": [
    {
     "data": {
      "image/png": "[encoded data removed]",
      "text/plain": [
       "<PIL.Image.Image image mode=RGB size=320x240 at 0x15EC9265DE0>"
      ]
     },
     "execution_count": 13,
     "metadata": {},
     "output_type": "execute_result"
    }
   ],
   "source": [
    "# 원 그리기\n",
    "from PIL import Image\n",
    "import numpy as np\n",
    "\n",
    "\n",
    "class Circle:\n",
    "    pass\n",
    "\n",
    "\n",
    "c1 = Circle(100, 120, 50)\n",
    "c2 = Circle(220, 120, 50)\n",
    "\n",
    "# 배경을 파란색으로 초기화\n",
    "arr = np.full((240, 320, 3), (0, 0, 255), dtype=np.uint8)\n",
    "\n",
    "arr = c1.draw(arr)\n",
    "arr = c2.draw(arr)\n",
    "\n",
    "im = Image.fromarray(arr.clip(0, 255).astype(np.uint8))  # data type 바꿔주기\n",
    "\n",
    "im"
   ]
  }
 ],
 "metadata": {
  "interpreter": {
   "hash": "f64e548cbf2ebb58caacc39a919b16809fbf0a70979c18e5ddba76aa9934d80e"
  },
  "kernelspec": {
   "display_name": "Python 3.9.5 64-bit ('base': conda)",
   "language": "python",
   "name": "python3"
  },
  "language_info": {
   "codemirror_mode": {
    "name": "ipython",
    "version": 3
   },
   "file_extension": ".py",
   "mimetype": "text/x-python",
   "name": "python",
   "nbconvert_exporter": "python",
   "pygments_lexer": "ipython3",
   "version": "3.10.2"
  },
  "orig_nbformat": 4
 },
 "nbformat": 4,
 "nbformat_minor": 2
}
